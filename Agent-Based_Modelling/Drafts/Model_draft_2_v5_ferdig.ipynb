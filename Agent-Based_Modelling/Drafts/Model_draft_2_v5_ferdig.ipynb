{
 "cells": [
  {
   "cell_type": "markdown",
   "metadata": {
    "id": "3ZdA18_XGo3b"
   },
   "source": [
    "# Modeling Economical Systems\n",
    "\n",
    "<img src=\"buy-high-sell-low.jpg\" width=500>"
   ]
  },
  {
   "cell_type": "markdown",
   "metadata": {
    "id": "FN9eSCxtGo3e"
   },
   "source": [
    "###  🔬Groupname:\n",
    "\n",
    "#### 🔬 Group members:"
   ]
  },
  {
   "cell_type": "markdown",
   "metadata": {
    "id": "SlJvm7POGo3f"
   },
   "source": [
    "## Goals of this assignment:\n",
    " * Create three or more economic systems and compare them\n",
    " * How to use different plotting tools to visualize data\n",
    " * Learn how to use the Lorenz curve and the GINI coefficient to explain the distribution of wealth within economic systems and compare them"
   ]
  },
  {
   "cell_type": "markdown",
   "metadata": {
    "id": "EFtUqXAgGo3g"
   },
   "source": [
    "## Introduction and motivation\n",
    "\n",
    "### Agent based modeling\n",
    "\n",
    "In this assignment you will learn agent based modeling (ABM). What is ABM? Put it simply; an agent based model is a model which uses autonomous agents who follow simple rules to interact with eachother. The goal is to observe behaviours which arises in systems consisting of many interacting agents. \n",
    "\n",
    "Starting with a small system, in our case a few people(agents) trying to become rich, we use ABM to model a tiny economic system which we later upscale and add complexity to. As wikipedia states:\n",
    "\n",
    "\n",
    "        \"\"Agent-based models are a kind of microscale model that simulate the simultaneous operations and interactions of multiple agents in an attempt to re-create and predict the appearance of complex phenomena.\"\"\n",
    "        \n",
    "Observing these complex phenomena or emergent bahaviours is the first step in understanding and analyzing the system. This is what makes ABM so powerfull, it gives us a quick way to model large complex systems with emergent behaviours. \n",
    "\n",
    "### Emergent behaviour\n",
    "Emergent behaviour is a scientific term used to describe systems who produce complex patterns or \"behaviour\". In our assignment we will observe this phenomenon with the emergence of an oligarch in our economic system.\n",
    "\n",
    "\n",
    "### The yard sale model\n",
    "\n",
    "In this assignment we will recreate an economic system using ABM. This economic system will be based on the yard sale model developed by the phycicist Anirban Chakraborti. The system works by assuming that wealth transfers from one person to another by overpaying or underpaying for the traded goods.\n",
    "\n",
    "Imagine that you are buying a toaster from someone at a yardsale, you pay 100 NOK ($\\approx$11 USD) for it, however the toasters \"real\" value is 120 NOK ($\\approx$13.5 USD), which means that in a way you have the potential to earn more money by selling it at its actual market price. So value has transfered to you because you underpaid for an item. The seller however has just lost value since they sold it below market price. This is how the model bases its value transfer, by either over or underpaying for items. \n",
    "\n",
    "Chakraborti also assumed that the people trading would only trade a relative portion of their wealth since no one or very few people wishes to declare bankruptcy. What he found however was that even when the winner was decided by the  flip of a coin the money tended to coalesce to one agent. So in effect this created a system where one person would become an oligarch. Our goal is to recreate this emergent behaviour and modify the system to see if we can curtail the growth of an oligarch. \n",
    "\n",
    "---\n",
    "\n",
    "### Why model real world systems?\n",
    "In a world where computers are becoming evermore powerful there will one day come a time where people can model a complete society and try to use the results of that model to improve our real world. This technology will eventually let us try different societal structures and policies to test them without harming any people. In recent history many different political theories on how societies should best be run have sprung up and we all live in the wake of the trial and error of of them. This technology however of modeling economy, society and much more will allow us to circumvent this and perhaps try out more and more models and impliment what we learn from them.  \n",
    "\n",
    "An interesting example can be found in this article where machine learning is used to determine the best tax policy: https://blog.einstein.ai/the-ai-economist/ , this article is not needed to understand and complete this assignment, but it might give you some ideas on how to add complexity to your model.\n",
    "\n",
    "\n",
    "\n",
    "\n",
    "---"
   ]
  },
  {
   "cell_type": "markdown",
   "metadata": {
    "id": "7-l2tjXfGo3h"
   },
   "source": [
    "### Importing the necessary libraries\n",
    "\n",
    "\n",
    "For this excercise we will need to plot the results so we can interprit our system much easier, a good library when it comes to plotting would be matplotlib.pyplot. We also need to work with a lot of data so implementing numpy for its functions and array structures is also encouraged heavily. The last package we also view as necessary for this excercise is random, we are going to be using a coinflip model to determine who actually wins the trade, and for this the pack random comes in very handy.\n",
    "\n",
    "Note though that matplotlib.pyplot has been implimented as plt and numpy as np.\n"
   ]
  },
  {
   "cell_type": "code",
   "execution_count": 8,
   "metadata": {
    "id": "dtAPHtHoGo3h"
   },
   "outputs": [],
   "source": [
    "import matplotlib.pyplot as plt\n",
    "plt.style.use(\"seaborn\")\n",
    "import numpy as np\n",
    "import random"
   ]
  },
  {
   "cell_type": "markdown",
   "metadata": {
    "id": "QKDp7TCSGo3m"
   },
   "source": [
    "## The coinflip function\n",
    "\n",
    "So what are we trying to replicate with this function? Well a coinflip, a simplified system where each has a 50/50 chance of winning.\n",
    "\n",
    "\n",
    "The coinflip function will be an essential part of the systems we create, it should take no arguments, its purpose is to return either true or false at a near 50/50 rate. There are many ways of making this function, one way of doing it would be to use the function random.choice(), where you insert the bools True and False as a single list.\n",
    "\n",
    "\n",
    "When using packages you should always check the documentation to get a better understanding of the function, take a look at the documentation for numpy.random.choice()\n",
    "\n",
    "Link: https://numpy.org/doc/stable/reference/random/generated/numpy.random.choice.html\n",
    "\n",
    "### 🔬 Task: Code the coinflip function "
   ]
  },
  {
   "cell_type": "code",
   "execution_count": 9,
   "metadata": {
    "id": "M-_cPQQyGo3n"
   },
   "outputs": [],
   "source": [
    "# Write the coinflip function here\n",
    "\n",
    "def flipCoin():\n",
    "    # the function should return either True or False\n",
    "    return numpy.random.choice([True,False])\n"
   ]
  },
  {
   "cell_type": "markdown",
   "metadata": {
    "id": "LtMPHS12Go3r"
   },
   "source": [
    "## Writing the functions needed for the trading of multiple agents"
   ]
  },
  {
   "cell_type": "markdown",
   "metadata": {
    "id": "OsyWOl3KGo3r"
   },
   "source": [
    "### Elector function\n",
    "In this lecture we will elect the different agents by having a function that elects two different agents from a list of indexes. This means that the function should take in a list of indexes. Then we should copy and store the list with the function list.copy(), we then take a random index from the copied list and remove the elected index from the list. Then we elect another index from the edited list and return the two elected indexes as a single list."
   ]
  },
  {
   "cell_type": "markdown",
   "metadata": {
    "id": "ClemrlfZGo3r"
   },
   "source": [
    "\n",
    "\n",
    "---\n",
    "\n",
    "### 🔬 Task: Make the elector function\n",
    " "
   ]
  },
  {
   "cell_type": "code",
   "execution_count": 12,
   "metadata": {
    "id": "2KltbhFAGo3r"
   },
   "outputs": [],
   "source": [
    "\n",
    "\n",
    "def elector(listvar):\n",
    "    \"\"\"\n",
    "    Takes a list of numbers or agents, returnes two different agents in a list who will then trade \n",
    "    \"\"\"\n",
    "    # First we copy the index list so we dont modify it [list.copy(arg)] \n",
    "    newlist = list.copy(listvar)\n",
    "    \n",
    "    # Then we have to pick a random index and remove it from the list [random.choice([arg1,arg2,....]) , list.remove(arg)]\n",
    "    agent1 = np.random.choice(newlist)\n",
    "    newlist.remove(agent1)\n",
    "    \n",
    "    # Repeat, however now removing it is unnecessary [random.choice([arg1,arg2,....])]\n",
    "    agent2 = np.random.choice(newlist)\n",
    "\n",
    "    # Return the two elected agents as a single list, with the first elected as arg nr 0 and the second as arg nr 1\n",
    "    return [agent1, agent2]\n",
    "\n"
   ]
  },
  {
   "cell_type": "markdown",
   "metadata": {
    "id": "74fAAfxeGo3r"
   },
   "source": [
    "### Testing the elector function\n",
    "\n",
    "We wish to test the elector function to see if it works, in the codebox under, do the following\n",
    "\n",
    "\n",
    "\n",
    "\n",
    "\n",
    "####  🔬Tasks: \n",
    " 1. Call the testfunction below to see if your elector function works\n",
    " \n",
    " ---\n"
   ]
  },
  {
   "cell_type": "code",
   "execution_count": 13,
   "metadata": {
    "colab": {
     "base_uri": "https://localhost:8080/"
    },
    "id": "9o6AI6bBGo3s",
    "outputId": "ac0b0258-41c8-4b10-b8d2-1fc8266e464c"
   },
   "outputs": [
    {
     "name": "stdout",
     "output_type": "stream",
     "text": [
      "The function is working as it should, it returns two separate items from the list.\n"
     ]
    }
   ],
   "source": [
    "agents2 = 5 # making a number of agents greater than 2\n",
    "\n",
    "agentslist = [i for i in range(agents2)] # Making their indexes\n",
    "\n",
    "#Printing the indexes then what the elector function outputs\n",
    "def test_elector():\n",
    "    e1,e2 = elector(agentslist)\n",
    "    if e1 != e2 and e1 in agentslist and e2 in agentslist:\n",
    "        print(\"The function is working as it should, it returns two separate items from the list.\")\n",
    "    elif e1 == e2 and e1 in agentslist and e2 in agentslist:\n",
    "        print(\"The two indexes are the same! Check if you remove the index from the copied list.\")\n",
    "    elif e1 != e2 and e1 not in agentslist or e2 not in agentslist:\n",
    "        print(\"The indexes are not equal, but one or both of them does not exist in the list!\")\n",
    "\n",
    "#Calling the function\n",
    "test_elector()   "
   ]
  },
  {
   "cell_type": "markdown",
   "metadata": {
    "id": "y_NPAra9Go3s"
   },
   "source": [
    "---\n"
   ]
  },
  {
   "cell_type": "markdown",
   "metadata": {
    "id": "o1BIst45Go3s"
   },
   "source": [
    "### General one time trading function \n",
    "Now that the elector-function is complete we will move on to the last function we need before we can build a larger tradingsystem with more than two agents. This function should take as input a list with two arguments which are the wealth of the elected agents.\n",
    "\n",
    "Further we need a set of if tests, the test should be composed of three if tests which checks who is the wealthiest aswell as if they have equal wealth. The person with the least wealth will then be set as the w variable and be used as a trading value referanse.\n",
    "\n",
    "After this the coinflip function should be called to see who wins and then what remains is to update the values.\n",
    "\n",
    "\n",
    "#### Boolean multiplication\n",
    "For updating the values we could use another set of if tests, however we encourage you to use boolean mulitplication, the way you use this is by multiplying somewhing with a boolean statement, how this works is that the machine interprits False as 0 and True as 1. This means that if we use the updated values as coefficients for the bools and sum for False and True we will get the updates values without any if tests! Write it like the psudocode below.\n",
    "\n",
    "---\n",
    "\n",
    " * newvalue0 = (oldvalue0 + 0.2 * repherance value) * coinflip == True + (oldvalue0 - 0.2 * repherance value) * coinflip == False\n",
    " * newvalue1 = (oldvalue1 - 0.2 * repherance value) * coinflip == True + (oldvalue1 + 0.2 * repherance value) * coinflip == False\n",
    "\n",
    "---\n",
    "Then the function should return the new values as a list of the same dimention as the input.\n",
    "\n",
    "\n",
    "\n",
    "<img src=\"traderfunc.png\" width=\"600\">\n",
    "\n",
    "\n",
    "### 🔬 Task: Make a one time trading function"
   ]
  },
  {
   "cell_type": "code",
   "execution_count": null,
   "metadata": {
    "id": "iYs5I4CdGo3s"
   },
   "outputs": [],
   "source": [
    "# Here we make the general function for a one time trade between two agents\n",
    "\n",
    "def traderfunc(people):    \n",
    "    peoplenew = [0,0]\n",
    "\n",
    "    #checking who has least wealth, they will become the standard for how much is gambled\n",
    "    if people[0] < people[1]:\n",
    "        w = people[0] \n",
    "      \n",
    "    elif people[0] > people[1]:\n",
    "        w = people[1] \n",
    "        \n",
    "    else: #equal wealth\n",
    "        w = people[1]\n",
    "       \n",
    "    \n",
    "    #Call the coinflip function here\n",
    "    firstwins = flipCoin()\n",
    "    \n",
    "    # Writhe the boolean statement which defines the new wealth\n",
    "    peoplenew[0] = (people[0] + 0.2 * w) * (firstwins == True) + (people[0] - 0.2 * w) * (firstwins == False) \n",
    "    peoplenew[1] = (people[1] - 0.2 * w) * (firstwins == True) + (people[1] + 0.2 * w) * (firstwins == False) \n",
    "\n",
    "            \n",
    "    return peoplenew"
   ]
  },
  {
   "cell_type": "markdown",
   "metadata": {
    "id": "SjuJq8Y0Go3t"
   },
   "source": [
    "### 🔬 Task : Test the newly coded function by applying two values as input to see if it works  "
   ]
  },
  {
   "cell_type": "code",
   "execution_count": null,
   "metadata": {
    "colab": {
     "base_uri": "https://localhost:8080/"
    },
    "id": "9BG8PdXQGo3t",
    "outputId": "191ccaa4-2b35-4d52-ca5d-a9e5e77ee366"
   },
   "outputs": [],
   "source": [
    "#create two values\n",
    "value1 = value2 = 1000\n",
    "\n",
    "#print the old values against the new ones, does it change?\n",
    "print([value1,value2])\n",
    "print(traderfunc([value1,value2]))"
   ]
  },
  {
   "cell_type": "markdown",
   "metadata": {
    "id": "ohlsW4QvGo3t"
   },
   "source": [
    "---"
   ]
  },
  {
   "cell_type": "markdown",
   "metadata": {
    "id": "PmZ9rINoGo3t"
   },
   "source": [
    "## Liberalistic system \n",
    "\n",
    "#### What are we modeling?\n",
    "So now that we have all the components we need to make a trading system with more than two agents **it's important to look at what the actuall system represents in reality.** For now what we have is a model where the agents exchange wealth with eachother without any regulation, more or less an economic libertarians dream. So in effect this means that this model would be synonumous with a strict liberal economic society. Naturally this is a simplified model, yet it captures the main essence of what such a system would look like.\n",
    "\n",
    "This free system is also what we will use as a base in our later models where we will modify it to see how the changes impact the wealth distribution of the system.\n",
    "\n",
    "\n",
    "---\n",
    "\n",
    "#### Datastructuring \n",
    "For this exercise we will have to save a large amount of data, this is because we work with a lot of agents over a large number of iterations. For saving the values we use a matrix/array which has the dimentions $$iterations \\times agents $$\n",
    "which means that we have the respective agents on the horizontal axis and the development of the agents in the vertical axis. This means that when you write the indexes the first index will be the time and the second index will be the agent. So when calling the total timedevelopment of agent nr n you would write matrix[ : , n-1 ] and if you want all the values of the agents at m iteration you would write matrix[ m-1 , : ]. If you want the single value of agent n at iteration m you would write matrix[ m-1 , n-1 ]\n",
    "\n",
    "\n",
    "\n",
    "<img src=\"matrix.png\" width=\"400\">\n",
    "\n",
    "---\n",
    "\n",
    "#### Motivation:\n",
    "Motivation for the Liberalistic system:\n",
    "\n",
    "We want to use the most basic assumptions to create a system where agents trade with each other under no restraints to model the most \"free\" system possible. This resmebles the open market in its purest form and creates the base upon which studens are to create their own models later on. What we wish to observe is the devlopment of oligarchs.\n",
    "\n",
    "---\n",
    "\n",
    "\n",
    " ####  The limitations of our system\n",
    " \n",
    "There is one thing which students should be aware of, because our system is built the way it is, the more agents you decide to put in your system, the more iterations you need to achieve the end results. This is because only a pair of agents trade each time, so when testing how the number of agents effect the system, be aware of this and try to keep the number of agents moderatly low.\n",
    " \n",
    "---\n",
    "\n",
    "\n",
    "\n",
    "\n",
    "\n",
    "###  🔬Task:\n",
    "Your task is now to stitch together the different functions to make a working model where a set of agents around 10 stong trade over a number of iterations. Our first objective then is to initiate the system, here we need a start value for our agents, the number of iterations, the number of agents, we need to create the matrix that holds the values and fill it with the starter values and lastly we need to make an index for all the agents."
   ]
  },
  {
   "cell_type": "code",
   "execution_count": null,
   "metadata": {
    "id": "5wJcnJUDGo3t"
   },
   "outputs": [],
   "source": [
    "#Here we make the most general system, with no redistibution effects\n",
    "\n",
    "sKapital = 100000 # start capital\n",
    "N = 20000 # number of iterations for the trading period\n",
    "ant_agents = 20 # Number of agents present in our system\n",
    "\n",
    "matrix = np.zeros((N, ant_agents)) # Making the system matrix of dimention (N, number of agents)\n",
    "\n",
    "# a for loop designed to fill inn the initial conditions\n",
    "for i in range(ant_agents): \n",
    "    matrix[0,i] = sKapital\n",
    "    \n",
    "# Furthermore we create a list of the indexes to the corresponding agents\n",
    "indexagents = [i for i in range(ant_agents)] \n",
    "\n"
   ]
  },
  {
   "cell_type": "markdown",
   "metadata": {
    "id": "6fNwdIhHGo3t"
   },
   "source": [
    "Now that the system is initiated all that remains is to make the for loop, this for loop should do the following in order:\n",
    "\n",
    "**Chain of action:**\n",
    " 1. It should begin with updating the next values of the matrix with the old ones\n",
    " 2. Then it should elect the two agents that are going to trade \n",
    " 3. It should then run the two elected agents through the trader function and update their values\n",
    " \n",
    "<img src=\"traderloop.png\" width=\"500\">"
   ]
  },
  {
   "cell_type": "code",
   "execution_count": null,
   "metadata": {
    "id": "frv1pU1FGo3u"
   },
   "outputs": [],
   "source": [
    "\n",
    "\n",
    "\n",
    "# The trade loop\n",
    "for i in range(N-1):\n",
    "    #Making sure that the previous value for the agents who dont trade is not lost\n",
    "    matrix[i+1,:] = matrix[i,:] \n",
    "\n",
    "    #Electing two different agents to trade, then giving them their new value\n",
    "    e1,e2 = elector(indexagents)\n",
    "    newval1,newval2 = traderfunc([matrix[i,e1],matrix[i,e2]])\n",
    "    matrix[i+1,e1] = newval1\n",
    "    matrix[i+1,e2] = newval2\n",
    "\n",
    "   \n",
    "    "
   ]
  },
  {
   "cell_type": "markdown",
   "metadata": {
    "id": "B_WHwnksAvxt"
   },
   "source": [
    "## Visualizing the results\n",
    "\n",
    "Now that we have results from our code we need to visualize it, one of the ways of doing this is with a traditional 2D graph where the x-axis is composed of the iterations and the y-axis the values of each agent. To extract the value development of an agent you need to slice the matrix, so if you want agent number n then you need to write matrix[:,n-1]. So for plotting these results you need a for loop running over all the n agents."
   ]
  },
  {
   "cell_type": "markdown",
   "metadata": {
    "id": "Fn2J1rG3Go3u"
   },
   "source": [
    "### 🔬 Task: Plot the results as a traditional graph"
   ]
  },
  {
   "cell_type": "code",
   "execution_count": null,
   "metadata": {
    "colab": {
     "base_uri": "https://localhost:8080/",
     "height": 349
    },
    "id": "j0IGucifGo3u",
    "outputId": "de46c987-b187-4f4d-d153-f12dec0204c1",
    "scrolled": true
   },
   "outputs": [],
   "source": [
    "#Ploting the results\n",
    "\n",
    "fig, ax = plt.subplots(figsize=(10, 5))\n",
    "plt.ylabel(\"Value\")\n",
    "plt.xlabel(\"iteration\")\n",
    "plt.title(\"Plot av verdiutviklingen i det liberalistiske tradingsystemet\")\n",
    "\n",
    "for i in range(ant_agents):\n",
    "    ax.plot(matrix[:,i])"
   ]
  },
  {
   "cell_type": "markdown",
   "metadata": {
    "id": "jCqA_IvvGo3u"
   },
   "source": [
    "### The limitations of the normal graph\n",
    "\n",
    "As we can see from our graph the value of the agents does indeed change over the iterations. However in the beginning when all the agents have relatively close values it can be hard to track their individual development. However, by using the function plt.pcolormesh the values can be displayed from a birds eye view.\n",
    "\n",
    "\n",
    "### 🔬 Task: Plot the pcolormesh of the agents"
   ]
  },
  {
   "cell_type": "code",
   "execution_count": null,
   "metadata": {
    "colab": {
     "base_uri": "https://localhost:8080/",
     "height": 367
    },
    "id": "dqLIDuFjGo3u",
    "outputId": "2609ec5a-e8f8-450a-e3fa-0428952f12b2"
   },
   "outputs": [],
   "source": [
    "# Creating the figure and setting size\n",
    "fig, ax = plt.subplots(figsize=(10, 5))\n",
    "matrix_tr = np.transpose(matrix)\n",
    "plt.pcolormesh(matrix_tr)\n",
    "plt.colorbar()\n",
    "# Add labels on the x and y axis\n",
    "plt.xlabel(\"time\")\n",
    "plt.ylabel(\"agents\")\n",
    "\n",
    "# Add a title\n",
    "plt.title(\"Heatmap of how the value develops over time\")"
   ]
  },
  {
   "cell_type": "markdown",
   "metadata": {
    "id": "ATBvxHC_Go3v"
   },
   "source": [
    "The heatmap above is hopefully a little more helpful when looking at individual development as time passes, write below the different trends that you observe!\n",
    "\n",
    "### 🔬Task: Write the different trends that you observe in the markdownbox below"
   ]
  },
  {
   "cell_type": "markdown",
   "metadata": {
    "id": "Z4HElBUbGo3v"
   },
   "source": [
    "**Write in this box:**\n",
    "\n",
    "---"
   ]
  },
  {
   "cell_type": "markdown",
   "metadata": {
    "id": "sCOXLT3LGo3v"
   },
   "source": [
    "### 🔬Task: Write about how we can utilize the two different ways of visualizing the results, what are their strengths and weaknesses?"
   ]
  },
  {
   "cell_type": "markdown",
   "metadata": {
    "id": "VZSH26dDGo3v"
   },
   "source": [
    "**Write in this box:**\n",
    "\n",
    "---"
   ]
  },
  {
   "cell_type": "markdown",
   "metadata": {
    "id": "_x5RADJALVnW"
   },
   "source": [
    "## Lorenz curve and the GINI coefficient\n",
    "\n",
    "We will now look at a different way of analyzing the wealth distribution of the system. When trying to analyze wealth distribution Lorenz curves are a great tool. It gives a graphical representation og the wealth distribution and can easily be used to calculate the GINI coefficient which estimates how far from a totally equal wealth distribution a country is. This is done by plotting the percentage of people against the percentage of wealth or any other asset in the country. \n",
    "\n",
    "\n",
    "\n",
    "The GINI coefficient is defined from the Lorenz curve. A 45 degree line represents perfect income equality in the population, and so the GINI coefficient can be interpreted as the ratio of the between the area A and the total area A+B:\n",
    "\n",
    "$$GINI = \\frac{A}{A+B}$$\n",
    "\n",
    "\n",
    "\n",
    "\n",
    "Your job later on will be to plot the Lorenz curve and calculate the GINI coefficient for your system.\n",
    "\n",
    "\n",
    "\n",
    "Take a look at this video from Khan Academy for a better understanding:"
   ]
  },
  {
   "cell_type": "code",
   "execution_count": null,
   "metadata": {
    "colab": {
     "base_uri": "https://localhost:8080/",
     "height": 381
    },
    "id": "Ihs1sBSRLaV6",
    "outputId": "b0224273-7b72-4e7b-f231-fcd4ebfb85f2"
   },
   "outputs": [],
   "source": [
    "from IPython.display import YouTubeVideo \n",
    "YouTubeVideo(\"y8y-gaNbe4U\",width=640,height=360)\n"
   ]
  },
  {
   "cell_type": "markdown",
   "metadata": {
    "id": "MFqMAIWuP2Ne"
   },
   "source": [
    "Below is the functions which calucalte the GINI coeficcient from the lorenz curve.\n",
    "\n",
    "Remember: When using the gini and lorez functions the list or array you input has to be sorted small to large. Use the function np.sort()"
   ]
  },
  {
   "cell_type": "code",
   "execution_count": null,
   "metadata": {
    "id": "t0GblsPuPxqK"
   },
   "outputs": [],
   "source": [
    "def gini(matrix):\n",
    "    count = matrix.size\n",
    "    coefficient = 2 / count\n",
    "    indexes = np.arange(1, count + 1)\n",
    "    weighted_sum = (indexes * matrix).sum()\n",
    "    total = matrix.sum()\n",
    "    constant = (count + 1) / count\n",
    "    return coefficient * weighted_sum / total - constant\n",
    "\n",
    "def lorenz(matrix):\n",
    "    # this divides the prefix sum by the total sum\n",
    "    # this ensures all the values are between 0 and 1.0\n",
    "    scaled_prefix_sum = matrix.cumsum() / matrix.sum()\n",
    "    # this prepends the 0 value (because 0% of all people have 0% of all wealth)\n",
    "    return np.insert(scaled_prefix_sum, 0, 0)\n"
   ]
  },
  {
   "cell_type": "code",
   "execution_count": null,
   "metadata": {
    "colab": {
     "base_uri": "https://localhost:8080/",
     "height": 407
    },
    "id": "aj0swuyNGo30",
    "outputId": "b6f58ded-1036-4ef0-d2ef-465444123779"
   },
   "outputs": [],
   "source": [
    "last_iteration = np.array(np.sort([matrix[-1,:]]))\n",
    "lorenz_curve = lorenz(last_iteration)\n",
    "\n",
    "ginicap = gini(last_iteration)\n",
    "\n",
    "fig,ax = plt.subplots(figsize = (8,6))\n",
    "ax.axis('equal')\n",
    "\n",
    "ax.plot(np.linspace(0.0, 1.0, lorenz_curve.size), lorenz_curve,label = \"Lorenz curve\")\n",
    "# plot the straight line perfect equality curve\n",
    "ax.plot([0,1], [0,1], label = \"Complete egalitarianism\")\n",
    "plt.title(f\"The lorenz curve with a GINI coefficient of {gini(last_iteration):.2f}\")\n",
    "ax.legend()"
   ]
  },
  {
   "cell_type": "markdown",
   "metadata": {
    "id": "5qyJP_3ZAvxw"
   },
   "source": [
    "### 🔬Task: From what you just learned, what does the Lorenz graph and the GINI coefficient tell you about the liberalistic system? Write below"
   ]
  },
  {
   "cell_type": "markdown",
   "metadata": {
    "id": "Zb9lVN16Avxw"
   },
   "source": []
  },
  {
   "cell_type": "markdown",
   "metadata": {
    "id": "7GQDmbarGo30"
   },
   "source": [
    "\n",
    "\n",
    "\n",
    "\n",
    "---"
   ]
  },
  {
   "cell_type": "markdown",
   "metadata": {
    "id": "U2K5i4FqGo30"
   },
   "source": [
    "## Expanding our model with a wealth limit (softcap)\n",
    "\n",
    "Now we wish to modify our system through a wealth limit, where when the wealthy hit the wealth limit, some of their possessions gets redistributed to the agents at the lower parts of the socioeconomic spektrum. So the first thing to discuss is the very nature of the limit, is it going to be a hardcap or a softcap, where a hardcap would mean that they could never ever go over the wealth limit and a softcap would mean that they can go over, but there would be a system which activly works to bring them under again. Yet in theory if an oligark has a bit of luck and wins many times in a row he or she could theoretically exist over the wealthcap for a time, yet this is highly unlikely. Again we go to the real world to solve this problem through a thought experiment, let us imagine a state where the government has decided to implement a wealth limit with a hardcap. This would mean that if a wealthy person suddenly hits the wealthcapasity through their salery or other means, then the government would just stop that transfer and say something like \"sorry, you have hit the maximum amount of allowed money, have a nice day\". I can not imagine that this would go down too well with anyone, yes if the limit was arbitrarily large most people would be unaffected, yet it still seems tyrannical and it sounds like the government is more authoritarian than most would like, so perhaps a soft wealth capasity would be better? After all you are allowed to make money, even when you are over the capasity, it is just that it slowly repositions your value through some means of redistribution to a place under the wealth limit.\n",
    "\n",
    "\n",
    "---\n",
    "So this begs the question, how do we make this soft wealth limit? Lets start by initiating the system as we did before, after all this will be a modification of the earlier system, the new additions to the initiation code will be a limit variable which defines the wealthroof, we will later define the wealthroof by using the limit variable as a coefficient to the wealth median. A percentage variable should also be included, we naturally need to siphon the money away from the people over the wealthlimit, this percentage should be low, **as low as 1% or even lower**. The next thing to add is a part of the optional section of this task so it can be neglected if wanted, but add 3 empty lists, these will be used to store who is at the wealth median, who is under it and lastly who is at it.\n",
    "\n",
    "\n",
    "\n",
    "### 🔬 Task: Write a function for initializing system without the additions to the code described over, they will be implimented manually."
   ]
  },
  {
   "cell_type": "code",
   "execution_count": null,
   "metadata": {},
   "outputs": [],
   "source": [
    "# Write the initation function here\n",
    "\n",
    "def initSystem(N,sKap,nrOfAgt):\n",
    "    #First we make the matrix with the correct dimentions\n",
    "    matrix = np.zeros((N,nrOfAgt))\n",
    "    #Then we need to fill the matrix with initial values\n",
    "    for i in range(nrOfAgt):\n",
    "        matrix[0,i] = sKap\n",
    "    #Then we make the indexlist for the agents\n",
    "    indexagent = [i for i in range(nrOfAgt)]\n",
    "    return N, sKap, nrOfAgt,matrix,indexagent\n"
   ]
  },
  {
   "cell_type": "code",
   "execution_count": null,
   "metadata": {
    "id": "Od1g9PCmGo30"
   },
   "outputs": [],
   "source": [
    "# Initiate the system here\n",
    "\n",
    "\n",
    "N, sKap, nrOfAgt, matrix, indexagents = initSystem(10000,100000,10)\n",
    "\n",
    "# Lim is the wealthlimit and percent is the percent of wealth redistributed\n",
    "lim = 5\n",
    "percent = 0.01\n",
    "\n",
    "# Declaring the wealth median\n",
    "wmed = sKap\n",
    "\n",
    "# Here you should make the lists that will hold how many are under, at or over the wealth median\n",
    "overlim = []\n",
    "underlim = []\n",
    "atlim = []\n"
   ]
  },
  {
   "cell_type": "markdown",
   "metadata": {
    "id": "ol9Lk9WwGo30"
   },
   "source": [
    "Now that the system is initiated the next thing to do is let the agents trade with eachother. Again we base the new system on the old liberalistic one, however now for each iteration we need to check if the agents are over the wealthcap, if they are a set percentage of their wealth should go to the poorest agent. An easy way of finding the poorest agent is with the function numpy.argmin().\n",
    "\n",
    "\n",
    "**As for the optional part,** Declare 3 empty lists, every iteration these lists should be filled with how many people are over, under or at the wealthmedian. Later plot the results.\n",
    "\n",
    "---\n",
    "\n",
    "### 🔬 Task: Do the following alterations to the system as described in the paragraph over"
   ]
  },
  {
   "cell_type": "code",
   "execution_count": null,
   "metadata": {
    "id": "OpWBOB1cGo31"
   },
   "outputs": [],
   "source": [
    "# Make the trading for loop in this code box\n",
    "    \n",
    "\n",
    "# Here we trade in a for loop with a function\n",
    "for i in range(N-1):\n",
    "    matrix[i+1,:] = matrix[i,:]\n",
    "\n",
    "\n",
    "    over, under,at = 0,0,0\n",
    "    for k in matrix[i+1,:]:\n",
    "        if k > wmed:\n",
    "            over += 1\n",
    "        elif k < wmed: \n",
    "            under +=1\n",
    "        elif k == wmed:\n",
    "            at += 1\n",
    "            \n",
    "    overlim.append(over)\n",
    "    underlim.append(under)\n",
    "    atlim.append(at)\n",
    "\n",
    "    e1,e2 = elector(indexagents) #choosing two agents to conduct a trade\n",
    "    newval1,newval2 = traderfunc([matrix[i,e1],matrix[i,e2]]) #calculating new wealth\n",
    "    matrix[i+1,e1] = newval1 #updating wealth for chosen angents\n",
    "    matrix[i+1,e2] = newval2\n",
    "\n",
    "    for elem in indexagents: # loops over the agents\n",
    "        if matrix[i+1,elem] >= lim* wmed: # If one of them is above 5 times the median then proceed\n",
    "            poorindex = np.argmin(matrix[i+1,:]) # Finding the index of the poorest agent\n",
    "            matrix[i+1,poorindex] += percent*matrix[i+1,elem] # Giving som of the wealth to the poor agent\n",
    "            matrix[i+1,elem] -= percent*matrix[i+1,elem] # Removing said wealth \n",
    "\n"
   ]
  },
  {
   "cell_type": "markdown",
   "metadata": {
    "id": "MsO7qGgTGo31"
   },
   "source": [
    "Now that the system is done with its calculations it is time to visualize what we have done, first make a figure of the \"normal\" 2D graph with the x axis being the iterations and the y axis being the value. Then create the second figure which will be the heatmap of the same matrix, as discussed earlier this makes it easier to see the development of the individual agents.  \n",
    "\n",
    "If you did the optional part aswell then create a graph which includes the 3 different lists you filled with values. \n",
    "\n",
    "### 🔬 Task: Create two figures a graph and a heatmap of the system, (optional) plot the 3 lists you filled in a third figure."
   ]
  },
  {
   "cell_type": "code",
   "execution_count": null,
   "metadata": {
    "colab": {
     "base_uri": "https://localhost:8080/",
     "height": 351
    },
    "id": "qsNlaicxGo31",
    "outputId": "df9c17e1-a938-4cac-ae6e-8b6a82bc3763"
   },
   "outputs": [],
   "source": [
    "# Create the normal figure here\n",
    "\n",
    "fig, ax = plt.subplots(figsize=(10, 5))\n",
    "plt.ylabel(\"Value\")\n",
    "plt.xlabel(\"iteration\")\n",
    "\n",
    "\n",
    "\n",
    "for i in range(nrOfAgt):\n",
    "    ax.plot(matrix[:,i])\n",
    "    \n",
    "ax.axhline(y = sKapital,color =\"black\", linestyle = \"--\", label = \"median wealth\")\n",
    "ax.axhline(y = lim*sKapital,color =\"blue\", linestyle = \"--\",label = \"Wealth limit\")\n",
    "plt.legend(loc = \"upper left\")"
   ]
  },
  {
   "cell_type": "code",
   "execution_count": null,
   "metadata": {
    "colab": {
     "base_uri": "https://localhost:8080/",
     "height": 355
    },
    "id": "DAPIjnRSGo31",
    "outputId": "abaef6be-d807-4618-9f39-11c521ab973e"
   },
   "outputs": [],
   "source": [
    "# Create the heatmap here\n",
    "\n",
    "fig, ax = plt.subplots(figsize=(10, 5))\n",
    "matrix_tr = np.transpose(matrix)\n",
    "plt.pcolormesh(matrix_tr)\n",
    "plt.xlabel(\"time\")\n",
    "plt.ylabel(\"agents\")\n",
    "plt.colorbar()"
   ]
  },
  {
   "cell_type": "code",
   "execution_count": null,
   "metadata": {
    "colab": {
     "base_uri": "https://localhost:8080/",
     "height": 351
    },
    "id": "4AM-jKBlGo31",
    "outputId": "edb7da6e-de50-4e0e-bb21-48b5cd7abe6a",
    "scrolled": true
   },
   "outputs": [],
   "source": [
    "# (Optional) Plot the 3 lists with over, under and at median here\n",
    "\n",
    "fig, ax = plt.subplots(figsize=(8, 5))\n",
    "ax.grid()\n",
    "plt.ylabel(\"Number of agents\")\n",
    "plt.xlabel(\"iteration\")\n",
    "ax.plot(overlim, label =\"Over median\")\n",
    "ax.plot(underlim, label = \"Under median\")\n",
    "ax.plot(atlim,label = \"at median\")\n",
    "plt.legend()"
   ]
  },
  {
   "cell_type": "markdown",
   "metadata": {
    "id": "be7I8thPGo31"
   },
   "source": [
    "As we can see this system is far more egalitarian than the first liberalistic system, this comes as no suprise given that this system actually has a system of redistribution. We can see that the liberalistic system has a clear tendency to result in one or more oligarchs, the wealthcap system however tends to have people going far more up and down, here there are clearly wealthy agents, however the divide between what is wealthy and what is poor is far less than in the liberalistic system. We see in this the wealthcap system that the wealth is distributed among far more agents who constantly trade with eachother below the wealthcap. However when an agent reaches the wealhcap we can see that he or she goes down and does not exist above it for too long. The lating results of this change is undoubtedly that this tradingbattle will continue into eternity, compare this result to the liberalistic system where the end result is one agent with all the wealth and we can with confidense assume that the changes we did on this system not only gave the desired affect but also changed the results dramatically.\n",
    "\n",
    "\n",
    "Moreover when looking at the optional part we can see that there is a small divide between how many are over the median and how many are below it, we can only assume that if we put the wealth limit to a lower value that the difference between over and under would become far lower. So while this system did not produce an oligarch it did produse a far more egalitarian system."
   ]
  },
  {
   "cell_type": "markdown",
   "metadata": {
    "id": "6FBpQtjpGo32"
   },
   "source": [
    "### 🔬 Task: Write what you observed in your system below and compare it to the liberalistic system, did you expect this development to happen?"
   ]
  },
  {
   "cell_type": "markdown",
   "metadata": {
    "id": "TFquGqZCGo32"
   },
   "source": [
    "**Write in this box:**\n",
    "\n",
    "\n",
    "---"
   ]
  },
  {
   "cell_type": "markdown",
   "metadata": {
    "id": "Km_FAKJFGo32"
   },
   "source": [
    "### 🔬 Task: Try to change the limit coefficient and the percentage of wealth redistributed and write under how it impacts the system"
   ]
  },
  {
   "cell_type": "markdown",
   "metadata": {
    "id": "KEhrPhuwGo32"
   },
   "source": [
    "**Write in this box:**\n",
    "\n",
    "\n",
    "---"
   ]
  },
  {
   "cell_type": "code",
   "execution_count": null,
   "metadata": {
    "colab": {
     "base_uri": "https://localhost:8080/",
     "height": 407
    },
    "id": "mdneoGcDGo32",
    "outputId": "2ebc64dc-d47f-4c1e-e570-efcb24d6c791"
   },
   "outputs": [],
   "source": [
    "last_iteration = np.array(np.sort([matrix[-1,:]]))\n",
    "lorenz_curve_softcap = lorenz(last_iteration)\n",
    "#print(f\"GINI koeffisienten er {gini(last_iteration)}\")\n",
    "\n",
    "\n",
    "fig,ax = plt.subplots(figsize = (8,6))\n",
    "ax.axis('equal')\n",
    "\n",
    "ax.plot(np.linspace(0.0, 1.0, lorenz_curve_softcap.size), lorenz_curve_softcap,label = \"Lorenz curve\")\n",
    "# plot the straight line perfect equality curve\n",
    "ax.plot([0,1], [0,1], label = \"Complete egalitarianism\")\n",
    "plt.title(f\"The lorenz curve with a GINI coefficient of {gini(last_iteration):.2f}\")\n",
    "ax.legend()"
   ]
  },
  {
   "cell_type": "code",
   "execution_count": null,
   "metadata": {
    "colab": {
     "base_uri": "https://localhost:8080/",
     "height": 407
    },
    "id": "u20bO2-1Avxz",
    "outputId": "8f5dc8b9-59bf-4111-c46d-044605e7a69e"
   },
   "outputs": [],
   "source": [
    "fig,ax = plt.subplots(figsize = (8,6))\n",
    "ax.axis('equal')\n",
    "\n",
    "ax.plot(np.linspace(0.0, 1.0, lorenz_curve_softcap.size), lorenz_curve_softcap,label = f\"Lorenz curve wealthcap ( GINI: {gini(last_iteration):.2f})\")\n",
    "ax.plot(np.linspace(0.0, 1.0, lorenz_curve.size), lorenz_curve, \"k\" ,label = f\"Lorenz curve liberalistic (GINI: {ginicap:.2f})\")\n",
    "# plot the straight line perfect equality curve\n",
    "ax.plot([0,1], [0,1], \"g\" , label = f\"Complete egalitarianism (GINI: {0})\")\n",
    "plt.title(\"The lorenz curve with a liberal system and a wealthlimit system\")\n",
    "ax.legend()"
   ]
  },
  {
   "cell_type": "markdown",
   "metadata": {},
   "source": [
    "### 🔬 Task: Look at the graphs and explain what this means for the two systems"
   ]
  },
  {
   "cell_type": "markdown",
   "metadata": {
    "id": "M2qa_ru5Avx0"
   },
   "source": [
    "Now that you have coded two different systems with the help you should try to use the systems present and add your own modifications to it. The systems you can try are\n",
    "\n",
    " * Basic universal income\n",
    " * Periodic redistribution\n",
    " * Lottery, where one agent suddenly gets a drastic boost in money\n",
    " * Unequal starting position\n",
    " * Agent skills:  agents have a chance at getting better after a wontrade\n",
    "\n",
    "\n",
    "You are also welcome to try making your own system if you desire, the only requirement is that it is based on reality."
   ]
  }
 ],
 "metadata": {
  "colab": {
   "collapsed_sections": [
    "ATBvxHC_Go3v",
    "sCOXLT3LGo3v",
    "ol9Lk9WwGo30",
    "MsO7qGgTGo31",
    "6FBpQtjpGo32"
   ],
   "name": "Model_draft_2_v3.ipynb",
   "provenance": []
  },
  "kernelspec": {
   "display_name": "Python 3",
   "language": "python",
   "name": "python3"
  },
  "language_info": {
   "codemirror_mode": {
    "name": "ipython",
    "version": 3
   },
   "file_extension": ".py",
   "mimetype": "text/x-python",
   "name": "python",
   "nbconvert_exporter": "python",
   "pygments_lexer": "ipython3",
   "version": "3.7.7"
  }
 },
 "nbformat": 4,
 "nbformat_minor": 1
}
